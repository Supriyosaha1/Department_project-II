{
 "cells": [
  {
   "cell_type": "markdown",
   "metadata": {
    "deletable": true,
    "editable": true
   },
   "source": [
    "# Photometric tables for RASCAS\n",
    "\n",
    "This script allows to generate tables for photon initial conditions (PhotonsFromStars.f90). "
   ]
  },
  {
   "cell_type": "code",
   "execution_count": null,
   "metadata": {
    "collapsed": false,
    "deletable": true,
    "editable": true
   },
   "outputs": [],
   "source": [
    "%matplotlib inline\n",
    "import matplotlib\n",
    "from matplotlib import pyplot as plt\n",
    "from scipy.io import FortranFile\n",
    "import numpy as np\n",
    "import os\n",
    "import sys\n",
    "# RASCAS \n",
    "import lya_utils as lya"
   ]
  },
  {
   "cell_type": "code",
   "execution_count": null,
   "metadata": {
    "collapsed": true,
    "deletable": true,
    "editable": true
   },
   "outputs": [],
   "source": [
    "# Function taken fron ramses utils, by Trebitsch & Rosdahl.\n",
    "\n",
    "def readRamsesSEDs(sedDir):\n",
    "    \"\"\"Read SED in ramses format and return\n",
    "\n",
    "    Parameters:\n",
    "    ----------------------------------------------------------------------\n",
    "    sedDir: Directory containing the SED tables\n",
    "    \"\"\"\n",
    "    # Read metallicity bins\n",
    "    ZFile = open(sedDir+'/metallicity_bins.dat', 'r')\n",
    "    nZ = eval(ZFile.readline())\n",
    "    ZBins = []\n",
    "    for Z in range(0,nZ): ZBins.append(eval(ZFile.readline()))\n",
    "    ZFile.close()\n",
    "\n",
    "    # Read age bins\n",
    "    ageFile = open(sedDir+'/age_bins.dat', 'r')\n",
    "    nAge = eval(ageFile.readline())\n",
    "    ageBins = []\n",
    "    for age in range(0,nAge): ageBins.append(eval(ageFile.readline()))\n",
    "    ageFile.close()\n",
    "\n",
    "    # Read wavelength bins and spectra\n",
    "    sedFile = FortranFile(sedDir+'/all_seds.dat','r')\n",
    "    nLambda = sedFile.read_ints()[0]\n",
    "    lambdaBins = sedFile.read_reals()\n",
    "    spectra = np.empty([nLambda,nAge,nZ])\n",
    "    for iZ in range(0,nZ):\n",
    "        for iAge in range(0,nAge):\n",
    "            spectrum = sedFile.read_reals()\n",
    "            spectra[:,iAge,iZ] = spectrum\n",
    "\n",
    "    return {'ZBins':ZBins, 'ageBins':ageBins, 'lambdaBins':lambdaBins,'spectra':spectra}"
   ]
  },
  {
   "cell_type": "code",
   "execution_count": null,
   "metadata": {
    "collapsed": false,
    "deletable": true,
    "editable": true
   },
   "outputs": [],
   "source": [
    "ssp = readRamsesSEDs('/Users/blaizot/Documents/Astro/Dev/muse-svn/data/SED_LIBS/bc03/')"
   ]
  },
  {
   "cell_type": "markdown",
   "metadata": {
    "deletable": true,
    "editable": true
   },
   "source": [
    "# Monochromatic luminosity densities (nb phot / s / A / Msun)\n",
    "We generate tables giving the nb of photons emited per second and per Angstrom at a given wavelength. \n",
    "NB: This option should not be used to compute spectra, because they cannot be normalised properly ... It should be used assuming that all photons come out at the same frequency. \n",
    "\n",
    "> This can be used by PhotonsFromStars.f90 with options \n",
    "> ```fortran\n",
    "> weight_type == 'Mono'\n",
    ">spec_type == 'Mono'\n",
    "> ```"
   ]
  },
  {
   "cell_type": "code",
   "execution_count": null,
   "metadata": {
    "collapsed": false,
    "deletable": true,
    "editable": true
   },
   "outputs": [],
   "source": [
    "lambda0 = 5510.  # wavelength at which we want the flux [A]\n",
    "\n",
    "i0 = np.where(abs(ssp['lambdaBins']-lambda0) == min(abs(ssp['lambdaBins']-lambda0)))[0][0]\n",
    "lambda0 = ssp['lambdaBins'][i0]\n",
    "f0 = ssp['spectra'][i0,:,:] * 2e33 # erg/s/Msun/A\n",
    "nu0 = lya.clight / (lambda0*1e-8) # [Hz]\n",
    "n0 = f0 / lya.h_cgs / nu0  # nb of photons / s / Msun / A\n",
    "    \n",
    "# save these to some ascii file \n",
    "f = open('PhotTable_Mono_%iA.txt'%(lambda0),'w')\n",
    "f.write(\"# Number of photons emitted /s/Msun/A, at %f A. These are generated from BC03 models. \\n\"%(lambda0))\n",
    "f.write(\"# First line is nages and nmets. Then come ages [Myr] (line 2), metallicities [absolute] (line 3), and wavelength [A] (line 4) \\n\")\n",
    "f.write(\"# Then each line has N_%i [#/s/Msun/A] for all ages and one metallicity \\n\"%(lambda0))\n",
    "nage = len(ssp['ageBins'])\n",
    "nmet = len(ssp['ZBins'])\n",
    "f.write(\"%i %i \\n\"%(nage,nmet))\n",
    "for iage in range(nage): f.write(\"%.8e \"%(ssp['ageBins'][iage]*1e-6))\n",
    "f.write(\"\\n\")\n",
    "for imet in range(nmet): f.write(\"%.8e \"%(ssp['ZBins'][imet]))\n",
    "f.write(\"\\n\")\n",
    "f.write(\"%.8e \\n\"%(lambda0))\n",
    "for imet in range(nmet):\n",
    "    for iage in range(nage):f.write(\"%.8e \"%(f0[iage,imet]))\n",
    "    f.write(\"\\n\")\n",
    "f.close()\n",
    "\n",
    "# sanity-check plot \n",
    "plt.figure(figsize=(12,10))\n",
    "for i in range(0,150,10):\n",
    "    plt.plot(ssp['lambdaBins'],ssp['spectra'][:,i,1]*2e33,label=\"%.4f Myr\"%(ssp['ageBins'][i]*1e-6))\n",
    "\n",
    "plt.xlim(lambda0-500.,lambda0+500)\n",
    "plt.ylim(1e27,1e32)\n",
    "plt.xlabel(r'$\\lambda \\ [\\AA]$',fontsize=15)\n",
    "plt.ylabel(r'$F_{\\lambda} \\ [erg / s / \\AA / M_\\odot]$',fontsize=15)\n",
    "plt.yscale('log')\n",
    "plt.axvline(lambda0,alpha=0.3,color='orange',linewidth=5,label=r'$\\lambda = %i \\AA$'%(lambda0))\n",
    "plt.legend()\n"
   ]
  },
  {
   "cell_type": "markdown",
   "metadata": {
    "deletable": true,
    "editable": true
   },
   "source": [
    "# Total Lya line luminosities (nb of phot. / s / Msun)\n",
    "\n",
    "Here, we compute the number of Lyman continuum photons and use a typical value alpha_B = 0.68 to convert them into Lya photons. We save the number of photons emitted per second and per solar mass. \n",
    "\n",
    "The format here can be adapted to other emission lines.  \n",
    "\n",
    "> This can be used by PhotonsFromStars.f90 with options \n",
    "> ```fortran\n",
    "> weight_type == 'Mono'\n",
    ">spec_type == 'Gauss'\n",
    "> ```"
   ]
  },
  {
   "cell_type": "code",
   "execution_count": null,
   "metadata": {
    "collapsed": false,
    "deletable": true,
    "editable": true
   },
   "outputs": [],
   "source": [
    "plt.figure(figsize=(12,12))\n",
    "\n",
    "# save these to some ascii file \n",
    "f = open('PhotTable_Mono_Lya.txt','w')\n",
    "f.write(\"# Number of Lya photons emitted /s/Msun. These are generated from BC03 models assuming alpha_B=0.68. \\n\")\n",
    "f.write(\"# First line is nages and nmets. Then come ages [Myr] (line 2), metallicities [absolute] (line 3), and central wavelength [A] (line 4) \\n\")  \n",
    "f.write(\"# Then each line has N_Lya [#/s/Msun] for all ages and one metallicity \\n\")\n",
    "nage = len(ssp['ageBins'])\n",
    "nmet = len(ssp['ZBins'])\n",
    "f.write(\"%i %i \\n\"%(nage,nmet))\n",
    "for iage in range(nage): f.write(\"%.8e \"%(ssp['ageBins'][iage]*1e-6))\n",
    "f.write(\"\\n\")\n",
    "for imet in range(nmet): f.write(\"%.8e \"%(ssp['ZBins'][imet]))\n",
    "f.write(\"\\n\")\n",
    "f.write(\"%.8e \\n\"%(lya.lambda0*1e8))  # line-center wavelength [A]\n",
    "# comute number of Lyman continuum photons\n",
    "lylim  = 912. # [Angstrom]\n",
    "ilylim = np.where(abs(ssp['lambdaBins']-lylim) == min(abs(ssp['lambdaBins']-lylim)))[0][0]\n",
    "lbds   = ssp['lambdaBins'][:ilylim+1]\n",
    "for imet in range(nmet):\n",
    "    x,y = [],[]\n",
    "    for iage in range(nage):\n",
    "        fly    = np.ravel(ssp['spectra'][0:ilylim+1,iage,imet])\n",
    "        fly = fly * lbds\n",
    "        nlyc = np.trapz(fly,lbds)\n",
    "        nlyc = nlyc * 1.0e-13 / lya.h_cgs / (lya.clight*1e-5) # use same formulae as St Charlot.\n",
    "        nlyc = np.log10(nlyc)+33.5827 # scale with solar lum\n",
    "        nlya = nlyc + np.log10(0.68)  # nb of Lya photons\n",
    "        x.append(ssp['ageBins'][iage])\n",
    "        y.append(nlya)\n",
    "        f.write(\"%.8e \"%(10.**nlya))\n",
    "    f.write(\"\\n\")\n",
    "    plt.plot(x,y,label='Z = %s'%(ssp['ZBins'][imet]))\n",
    "\n",
    "f.close()\n",
    "plt.legend()\n",
    "plt.xscale('log')\n",
    "plt.ylabel(r'$\\dot{N}_{\\rm Ly\\alpha} \\ [s^{-1} M_\\odot^{-1}]$',fontsize=20)\n",
    "plt.xlabel('age [yr]',fontsize=13)"
   ]
  },
  {
   "cell_type": "markdown",
   "metadata": {
    "deletable": true,
    "editable": true
   },
   "source": [
    "# Make power-law fits to SEDs (e.g. around Lya)\n",
    "NB: Now sure how useful this is in the end given the strong stellar-atmosphere absorption at Lya for stars older than a few 100 Myr ... which are totally _not_ reproduced here ...  Still : \n",
    "> This can be used by PhotonsFromStars.f90 with options \n",
    "> ```fortran\n",
    "> weight_type == 'PowLaw'\n",
    "> spec_type == 'PowLaw'\n",
    "> ```"
   ]
  },
  {
   "cell_type": "code",
   "execution_count": null,
   "metadata": {
    "collapsed": false,
    "deletable": true,
    "editable": true,
    "scrolled": false
   },
   "outputs": [],
   "source": [
    "# define fit parameters\n",
    "llow = 1100\n",
    "ilow = np.where(abs(ssp['lambdaBins']-llow) == min(abs(ssp['lambdaBins']-llow)))[0][0]\n",
    "lup  = 1450\n",
    "iup  = np.where(abs(ssp['lambdaBins']-lup) == min(abs(ssp['lambdaBins']-lup)))[0][0]\n",
    "flux = ssp['spectra'][ilow:iup,:,:] * 2e33 # erg/s/Msun/A\n",
    "loglambda = np.log10((ssp['lambdaBins'])[ilow:iup])\n",
    "logf      = np.log10(flux)\n",
    "lambda0   = 1216.\n",
    "\n",
    "\n",
    "# save these to some ascii file \n",
    "f = open('PowerLawContLya.txt','w')\n",
    "f.write(\"# Continuum power-law fits, from %f to %f A. These are in the form F_l = F_0 * (l/l0)^beta, with l0 = %f. \\n\"%(llow,lup,lambda0))\n",
    "f.write(\"# First line is nages and nmets. Then come ages [Myr], then metallicities [absolute] (lines 2 and 3), and l0 [A] (line 4) \\n\")\n",
    "f.write(\"# Then consecutive lines (corresponding to a single metallicity) have F_0 [erg/s/A/Msun] for all ages, beta for all ages. \\n\")\n",
    "nage = len(ssp['ageBins'])\n",
    "nmet = len(ssp['ZBins'])\n",
    "f.write(\"%i %i \\n\"%(nage,nmet))\n",
    "for iage in range(nage): f.write(\"%.8e \"%(ssp['ageBins'][iage]*1e-6))\n",
    "f.write(\"\\n\")\n",
    "for imet in range(nmet): f.write(\"%.8e \"%(ssp['ZBins'][imet]))\n",
    "f.write(\"\\n\")\n",
    "f.write(\"%.8e \\n\"%(lambda0))\n",
    "\n",
    "# prepare plot \n",
    "plt.figure(figsize=(12,10))\n",
    "import matplotlib.cm as cm\n",
    "colors = cm.rainbow(np.linspace(0, 1, 221))\n",
    "\n",
    "for imet in range(nmet):\n",
    "    x,y = [],[]\n",
    "    F_0s = \"\"\n",
    "    betas = \"\"\n",
    "    for iage in range(nage):\n",
    "        p = np.polyfit(loglambda,logf[:,iage,imet],deg=1)#,w=f[:,i,1]**2)\n",
    "        fit = 10.**( p[1] + p[0]*loglambda) \n",
    "        # remove the strong Lya absorption in the SEDs.\n",
    "        ii = np.where(flux[:,iage,imet] > 0.8*fit)[0]\n",
    "        p = np.polyfit(loglambda[ii],logf[ii,iage,imet],deg=1)\n",
    "        fit = 10.**( p[1] + p[0]*loglambda) \n",
    "        # again, with stronger constraint\n",
    "        ii = np.where(flux[:,iage,imet] > 0.95*fit)[0]\n",
    "        p = np.polyfit(loglambda[ii],logf[ii,iage,imet],deg=1)\n",
    "        fit = 10.**( p[1] + p[0]*loglambda) \n",
    "        # extract fit parameters\n",
    "        beta   = p[0]\n",
    "        logF_0 = p[1]+beta*np.log10(lambda0)\n",
    "        F_0    = 10.**logF_0  # in erg/s/A/Msun\n",
    "        F_0s = \"%s %.8e\"%(F_0s,F_0)\n",
    "        betas = \"%s %.8e\"%(betas,beta)\n",
    "\n",
    "\n",
    "        # check fit with plot\n",
    "        if imet == 1 and iage%10==0:\n",
    "            plt.plot(ssp['lambdaBins'],ssp['spectra'][:,iage,imet]*2e33,color=colors[iage])\n",
    "            fit = F_0 * (10.**loglambda/lambda0)**beta\n",
    "            plt.plot(10.**loglambda,fit,color=colors[iage],linewidth=3,\n",
    "                     alpha=0.6,label=\"%.1e Myr\"%(ssp['ageBins'][iage]*1e-6))\n",
    "            \n",
    "    f.write(\"%s \\n\"%(F_0s))\n",
    "    f.write(\"%s \\n\"%(betas))\n",
    "\n",
    "f.close()\n",
    "plt.xlim(900,1800)\n",
    "plt.ylim(4e26,4e33)\n",
    "plt.xlabel(r'$\\lambda \\ [\\AA]$',fontsize=15)\n",
    "plt.ylabel(r'$F_{\\lambda} \\ [erg / s / \\AA / M_\\odot]$',fontsize=15)\n",
    "plt.yscale('log')\n",
    "plt.axvline(1216,linestyle='--',alpha=0.3,color='red',linewidth=4,label=r'$\\lambda_{Ly\\alpha}$')\n",
    "plt.legend(loc='upper right')\n"
   ]
  },
  {
   "cell_type": "code",
   "execution_count": null,
   "metadata": {
    "collapsed": true
   },
   "outputs": [],
   "source": []
  }
 ],
 "metadata": {
  "kernelspec": {
   "display_name": "Python 2",
   "language": "python",
   "name": "python2"
  },
  "language_info": {
   "codemirror_mode": {
    "name": "ipython",
    "version": 2
   },
   "file_extension": ".py",
   "mimetype": "text/x-python",
   "name": "python",
   "nbconvert_exporter": "python",
   "pygments_lexer": "ipython2",
   "version": "2.7.13"
  }
 },
 "nbformat": 4,
 "nbformat_minor": 0
}
