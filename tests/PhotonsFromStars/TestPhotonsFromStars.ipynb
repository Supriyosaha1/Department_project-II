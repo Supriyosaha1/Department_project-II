{
 "cells": [
  {
   "cell_type": "code",
   "execution_count": null,
   "metadata": {
    "collapsed": false,
    "deletable": true,
    "editable": true
   },
   "outputs": [],
   "source": [
    "import numpy as np\n",
    "from matplotlib import pyplot as plt\n",
    "%matplotlib inline \n",
    "import lya_utils as ly\n",
    "import jphot as jp"
   ]
  },
  {
   "cell_type": "code",
   "execution_count": null,
   "metadata": {
    "collapsed": false,
    "deletable": true,
    "editable": true
   },
   "outputs": [],
   "source": [
    "# Gauss test \n",
    "p = jp.photonlist('PhotICs_Gauss.dat','',load=False)\n",
    "p.load_ic(stars=True)\n",
    "nphot_per_packet = p.nRealPhotons / p.nphoton # nb of real phot /s / MC phot\n",
    "lbda = ly.clight / p.nu_star * 1e8  # [A]\n",
    "ener = nphot_per_packet * ly.h_cgs * p.nu_ic  # [erg/s/MC phot]\n",
    "\n",
    "# construct spectrum (in star-particle frame)\n",
    "h,edges = np.histogram(lbda,bins=100,weights=ener)\n",
    "bin_centers = 0.5*(edges[:-1]+edges[1:])\n",
    "dlbda = bin_centers[1]-bin_centers[0]\n",
    "h = h / dlbda # erg/s/A\n",
    "plt.figure(figsize=(12,8))\n",
    "plt.plot(bin_centers,h,color='SlateBlue',alpha=0.8)\n",
    "plt.ylabel(r'$F_\\lambda(\\lambda)\\ [erg/s/\\AA]$',fontsize=15)\n",
    "plt.xlabel(r'$\\lambda\\ [\\AA]$',fontsize=15)\n",
    "\n",
    "# add analytic expression (make sure parameters are the same as in the params_PFS_test_Gauss.txt)\n",
    "l0 = 1216.\n",
    "sigma_kms = 20.\n",
    "sigma_Ang = sigma_kms * 1e5 / ly.clight * l0 \n",
    "x = np.linspace(l0-5.*sigma_Ang,l0+5.*sigma_Ang,100)\n",
    "f = 1./np.sqrt(2.*np.pi*sigma_Ang**2)*np.exp(-(x-l0)**2/2/sigma_Ang**2)\n",
    "f = f * p.nRealPhotons * ly.h_cgs * ly.clight / (l0*1e-8)\n",
    "plt.plot(x,f,linewidth=1,alpha=0.8,color='FireBrick')"
   ]
  },
  {
   "cell_type": "code",
   "execution_count": null,
   "metadata": {
    "collapsed": false
   },
   "outputs": [],
   "source": [
    "# Power Law test \n",
    "p = jp.photonlist('PhotICs_PowLaw.dat','',load=False)\n",
    "p.load_ic(stars=True)\n",
    "nphot_per_packet = p.nRealPhotons / p.nphoton # nb of real phot /s / MC phot\n",
    "lbda = ly.clight / p.nu_star * 1e8  # [A]\n",
    "ener = nphot_per_packet * ly.h_cgs * p.nu_ic  # [erg/s/MC phot]\n",
    "\n",
    "# construct spectrum (in star-particle frame)\n",
    "h,edges = np.histogram(lbda,bins=300,weights=ener)\n",
    "bin_centers = 0.5*(edges[:-1]+edges[1:])\n",
    "dlbda = bin_centers[1]-bin_centers[0]\n",
    "h = h / dlbda # erg/s/A\n",
    "plt.figure(figsize=(12,8))\n",
    "plt.plot(bin_centers,h,color='SlateBlue',alpha=0.8)\n",
    "plt.ylabel(r'$F_\\lambda(\\lambda)\\ [erg/s/\\AA]$',fontsize=15)\n",
    "plt.xlabel(r'$\\lambda\\ [\\AA]$',fontsize=15)\n",
    "\n",
    "# plot analytic solution\n",
    "# here, parameters should be the same as in params_PFS_test_PowLaw.txt (for l1 and l2) and the \n",
    "# beta and l0 values should match those in the file TestPhotTable_PowLaw.txt\n",
    "beta = -2.5\n",
    "l0 = 1216.\n",
    "l1 = 1120.\n",
    "l2 = 1320.\n",
    "if beta == -2:\n",
    "    F_0 = p.nRealPhotons * ly.h_cgs * ly.clight / (l0*1e-8) / l0 / np.log(l2/l1)\n",
    "else:\n",
    "    F_0 = p.nRealPhotons * ly.h_cgs * ly.clight / (l0*1e-8) / l0 * (2.+beta) / ((l2/l0)**(beta+2) - (l1/l0)**(beta+2))\n",
    "x = np.linspace(l1,l2,num=100)\n",
    "f = F_0*(x/l0)**(beta)\n",
    "plt.plot(x,f,linewidth=1,alpha=0.8,color='FireBrick')"
   ]
  },
  {
   "cell_type": "code",
   "execution_count": null,
   "metadata": {
    "collapsed": true
   },
   "outputs": [],
   "source": []
  }
 ],
 "metadata": {
  "kernelspec": {
   "display_name": "Python 2",
   "language": "python",
   "name": "python2"
  },
  "language_info": {
   "codemirror_mode": {
    "name": "ipython",
    "version": 2
   },
   "file_extension": ".py",
   "mimetype": "text/x-python",
   "name": "python",
   "nbconvert_exporter": "python",
   "pygments_lexer": "ipython2",
   "version": "2.7.13"
  }
 },
 "nbformat": 4,
 "nbformat_minor": 0
}
