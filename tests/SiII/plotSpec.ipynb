{
 "cells": [
  {
   "cell_type": "code",
   "execution_count": null,
   "metadata": {
    "collapsed": false,
    "deletable": true,
    "editable": true
   },
   "outputs": [],
   "source": [
    "import jphot as jp\n",
    "import lya_utils as lya\n",
    "import numpy as np\n",
    "from matplotlib import pyplot as plt\n",
    "%matplotlib inline \n",
    "import os"
   ]
  },
  {
   "cell_type": "code",
   "execution_count": null,
   "metadata": {
    "collapsed": false,
    "deletable": true,
    "editable": true
   },
   "outputs": [],
   "source": [
    "def write_param_PFSM(file,lmin,lmax,nphot,outputFile):\n",
    "    import lya_utils as lya\n",
    "    f = open(file,'w')\n",
    "    f.write('!--------------------------------------------------------------------------------\\n')\n",
    "    f.write('[PhotonsFromSourceModel]\\n')\n",
    "    f.write('# input / output parameters \\n')\n",
    "    f.write('outputfile = %s \\n'%(outputFile))\n",
    "    f.write('# computational domain parameters \\n')\n",
    "    f.write('source_type = pointlike \\n')\n",
    "    f.write('source_pos  = 0.5 0.5 0.5 \\n')\n",
    "    f.write('spec_type = flat_fnu \\n')\n",
    "    f.write('nu_min = %e # This is %f A  \\n'%(lya.clight/(lmax*1e-8),lmax))\n",
    "    f.write('nu_max = %e # This is %f A  \\n'%(lya.clight/(lmin*1e-8),lmin))\n",
    "    f.write('# miscelaneous parameters \\n')\n",
    "    f.write('nphot           = %i \\n'%(nphot))\n",
    "    f.write('ranseed         = -100 \\n')\n",
    "    f.write('verbose         = T \\n')\n",
    "    f.write('!--------------------------------------------------------------------------------\\n')\n",
    "    f.close()\n",
    "    \n",
    "def write_params_RaS(file,PhotICFile,outputFile):\n",
    "    f = open(file,'w')\n",
    "    f.write('!--------------------------------------------------------------------------------\\n')\n",
    "    f.write('[RASCAS-serial]\\n')\n",
    "    f.write('DataDir      = ./\\n')\n",
    "    f.write('DomDumpFile  = domain_decomposition_params.dat\\n')\n",
    "    f.write('PhotonICFile = %s\\n'%(PhotICFile))\n",
    "    f.write('fileout      = %s\\n'%(outputFile))\n",
    "    f.write('verbose      = T\\n')\n",
    "    f.write('!--------------------------------------------------------------------------------\\n')\n",
    "    f.write('\\n')\n",
    "    f.write('!--------------------------------------------------------------------------------\\n')\n",
    "    f.write('[gas_composition] \\n')\n",
    "    f.write('# overwrite parameters\\n')\n",
    "    f.write('gas_overwrite       = T\\n')\n",
    "    f.write('fix_nSiII = 1.0d0\\n')\n",
    "    f.write('fix_vth   = 1.0d4\\n')\n",
    "    f.write('fix_vel   = 0.0d0\\n')\n",
    "    f.write('fix_box_size_cm = 3.0d13\\n')\n",
    "    f.write('# miscelaneous parameters\\n')\n",
    "    f.write('verbose             = T\\n')\n",
    "    f.write('!--------------------------------------------------------------------------------\\n')\n",
    "    f.close()\n"
   ]
  },
  {
   "cell_type": "code",
   "execution_count": null,
   "metadata": {
    "collapsed": false,
    "deletable": true,
    "editable": true
   },
   "outputs": [],
   "source": [
    "# generate PhotICs around 1190.A and run RASCAS\n",
    "l90 = 1190.42\n",
    "dl = 0.01\n",
    "write_param_PFSM('params_PFSM_1190.dat',l90-dl,l90+dl,5000000,'PhotICs_1190.dat')\n",
    "os.system('../../f90/PhotonsFromSourceModel params_PFSM_1190.dat > PFSM_1190.log')\n",
    "write_params_RaS('params_RaS_1190.dat','PhotICs_1190.dat','result_1190.dat')\n",
    "os.system('../../f90/rascas-serial params_RaS_1190.dat > RaS_1190.log')"
   ]
  },
  {
   "cell_type": "code",
   "execution_count": null,
   "metadata": {
    "collapsed": false,
    "deletable": true,
    "editable": true
   },
   "outputs": [],
   "source": [
    "# generate PhotICs around 1193 A and run RASCAS\n",
    "l93 = 1193.28\n",
    "dl = 0.01\n",
    "write_param_PFSM('params_PFSM_1193.dat',l93-dl,l93+dl,5000000,'PhotICs_1193.dat')\n",
    "os.system('../../f90/PhotonsFromSourceModel params_PFSM_1193.dat > PFSM_1193.log')\n",
    "write_params_RaS('params_RaS_1193.dat','PhotICs_1193.dat','result_1193.dat')\n",
    "os.system('../../f90/rascas-serial params_RaS_1193.dat > RaS_1193.log')"
   ]
  },
  {
   "cell_type": "code",
   "execution_count": null,
   "metadata": {
    "collapsed": true
   },
   "outputs": [],
   "source": [
    "def spec(p,frame,nbins=200,lbdamin=None,lbdamax=None):\n",
    "    nphot_per_packet = p.nRealPhotons / p.nphoton # nb of real phot /s / MC phot\n",
    "    if frame == 'star':\n",
    "        nu = p.nu_star\n",
    "    if frame == 'ic':\n",
    "        nu = p.nu_ic\n",
    "    if frame == 'obs':\n",
    "        nu = p.nu\n",
    "    lbda = lya.clight / nu * 1e8  # [A]\n",
    "    ener = nphot_per_packet * lya.h_cgs * nu  # [erg/s/MC phot]\n",
    "    if lbdamin is None:\n",
    "        lbdamin = min(lbda)\n",
    "    if lbdamax is None:\n",
    "        lbdamax = max(lbda)\n",
    "    h,edges = np.histogram(lbda,bins=nbins,weights=ener,range=(lbdamin,lbdamax))\n",
    "    bin_centers = 0.5*(edges[:-1]+edges[1:])\n",
    "    dlbda = bin_centers[1]-bin_centers[0]\n",
    "    h = h / dlbda # erg/s/A\n",
    "    return bin_centers, h \n",
    "\n"
   ]
  },
  {
   "cell_type": "code",
   "execution_count": null,
   "metadata": {
    "collapsed": false,
    "deletable": true,
    "editable": true
   },
   "outputs": [],
   "source": [
    "l93 = 1193.28\n",
    "l90 = 1190.42\n",
    "l93bis =1197.39\n",
    "l90bis =1194.5\n",
    "\n",
    "p = jp.photonlist('PhotICs_1190.dat','result_1190.dat')\n",
    "x90fluo,h90fluo = spec(p,'obs',nbins=1000,lbdamin=l90bis-dl,lbdamax=l90bis+dl)\n",
    "x90reso,h90reso = spec(p,'obs',nbins=1000,lbdamin=l90-dl,lbdamax=l90+dl)\n",
    "p = jp.photonlist('PhotICs_1193.dat','result_1193.dat')\n",
    "x93fluo,h93fluo = spec(p,'obs',nbins=1000,lbdamin=l93bis-dl,lbdamax=l93bis+dl)\n",
    "x93reso,h93reso = spec(p,'obs',nbins=1000,lbdamin=l93-dl,lbdamax=l93+dl)\n",
    "\n",
    "plt.figure(figsize=(20,10))\n",
    "plt.subplot(1,2,1)\n",
    "plt.plot(x90reso-l90,h90reso,label='1190',color='FireBrick',linewidth=2,alpha=0.8)\n",
    "plt.plot(x93reso-l93,h93reso,label='1193',color='SlateBlue',linewidth=2,alpha=0.8)\n",
    "plt.legend(fontsize=15)\n",
    "plt.xlim(-dl,dl)\n",
    "plt.xlabel(r'$\\lambda-\\lambda_0 \\ [\\AA]$',fontsize=15)\n",
    "plt.ylabel(r'$F_\\lambda$',fontsize=15)\n",
    "plt.title('re-emission at resonnance included')\n",
    "\n",
    "plt.subplot(1,2,2)\n",
    "plt.plot(x90fluo-l90bis,h90fluo,label='1190',color='FireBrick',linewidth=2,alpha=0.8)\n",
    "plt.plot(x93fluo-l93bis,h93fluo,label='1193',color='SlateBlue',linewidth=2,alpha=0.8)\n",
    "plt.legend(fontsize=15)\n",
    "plt.xlim(-dl,dl)\n",
    "plt.xlabel(r'$\\lambda-\\lambda_0 \\ [\\AA]$',fontsize=15)\n",
    "plt.ylabel(r'$F_\\lambda$',fontsize=15)\n",
    "plt.title('re-emission at resonnance included')\n",
    "\n"
   ]
  }
 ],
 "metadata": {
  "kernelspec": {
   "display_name": "Python 2",
   "language": "python",
   "name": "python2"
  },
  "language_info": {
   "codemirror_mode": {
    "name": "ipython",
    "version": 2
   },
   "file_extension": ".py",
   "mimetype": "text/x-python",
   "name": "python",
   "nbconvert_exporter": "python",
   "pygments_lexer": "ipython2",
   "version": "2.7.13"
  }
 },
 "nbformat": 4,
 "nbformat_minor": 2
}
