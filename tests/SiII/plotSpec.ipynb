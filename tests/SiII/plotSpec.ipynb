{
 "cells": [
  {
   "cell_type": "code",
   "execution_count": null,
   "metadata": {
    "collapsed": false,
    "deletable": true,
    "editable": true
   },
   "outputs": [],
   "source": [
    "import jphot as jp\n",
    "import lya_utils as lya\n",
    "import numpy as np\n",
    "from matplotlib import pyplot as plt\n",
    "%matplotlib inline "
   ]
  },
  {
   "cell_type": "code",
   "execution_count": null,
   "metadata": {
    "collapsed": false,
    "deletable": true,
    "editable": true
   },
   "outputs": [],
   "source": [
    "p = jp.photonlist('PhotICs.dat','test.dat')\n",
    "nphot_per_packet = p.nRealPhotons / p.nphoton # nb of real phot /s / MC phot\n",
    "lbda = lya.clight / p.nu * 1e8  # [A]\n",
    "ener = nphot_per_packet * lya.h_cgs * p.nu_ic  # [erg/s/MC phot]\n",
    "h,edges = np.histogram(lbda,bins=500,weights=ener)\n",
    "bin_centers = 0.5*(edges[:-1]+edges[1:])\n",
    "dlbda = bin_centers[1]-bin_centers[0]\n",
    "h = h / dlbda # erg/s/A"
   ]
  },
  {
   "cell_type": "code",
   "execution_count": null,
   "metadata": {
    "collapsed": false,
    "deletable": true,
    "editable": true
   },
   "outputs": [],
   "source": [
    "plt.plot(bin_centers,h)\n",
    "plt.xlim(1189,1198)\n",
    "plt.ylim(0,6e-12)\n",
    "plt.xlabel(r'$\\lambda \\ [\\AA]$',fontsize=15)\n",
    "plt.ylabel(r'$F_\\lambda$',fontsize=15)"
   ]
  }
 ],
 "metadata": {
  "kernelspec": {
   "display_name": "Python 2",
   "language": "python",
   "name": "python2"
  },
  "language_info": {
   "codemirror_mode": {
    "name": "ipython",
    "version": 2
   },
   "file_extension": ".py",
   "mimetype": "text/x-python",
   "name": "python",
   "nbconvert_exporter": "python",
   "pygments_lexer": "ipython2",
   "version": "2.7.13"
  }
 },
 "nbformat": 4,
 "nbformat_minor": 2
}
