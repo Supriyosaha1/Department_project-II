{
 "cells": [
  {
   "cell_type": "markdown",
   "id": "37785e00",
   "metadata": {},
   "source": [
    "# Tutorial # 1 "
   ]
  },
  {
   "cell_type": "markdown",
   "id": "edfc3489",
   "metadata": {},
   "source": [
    "Here, we will create a setup for a homogeneous static sphere. "
   ]
  },
  {
   "cell_type": "code",
   "execution_count": 1,
   "id": "dec5a715",
   "metadata": {},
   "outputs": [],
   "source": [
    "# First a few necessary setups\n",
    "RascasDir = '/Users/blaizot/Documents/Astro/SaasFee/rascas/'  # Where you have your rascas clone.\n",
    "ExperimentDir = './'  # where the RASCAS run will happen (and where param file will be written). \n",
    "\n",
    "# use a parallel environment or not\n",
    "useMPI = False\n",
    "\n",
    "# include rascas/py in the path for imports \n",
    "import sys\n",
    "sys.path.append(\"../../py/\")\n",
    "# imports from rascas/py\n",
    "import write_param_files as wpf\n",
    "import jphot as jp\n",
    "import lya_utils as lya\n",
    "\n",
    "# \n",
    "import os\n",
    "import matplotlib.pyplot as plt\n",
    "import numpy as np\n",
    "\n",
    "# Units ... TBC... \n",
    "import astropy.units as u\n",
    "from astropy.constants import c"
   ]
  },
  {
   "cell_type": "markdown",
   "id": "eea3659b",
   "metadata": {},
   "source": [
    "# 1. Definition of parameters\n",
    "Parameters need to be provided for different sections of the code. We build a list of sections in the variable `Parameters` and fill it up."
   ]
  },
  {
   "cell_type": "code",
   "execution_count": 2,
   "id": "b5c7fa90",
   "metadata": {},
   "outputs": [],
   "source": [
    "Parameters = []  # initialise a list of parameter sections"
   ]
  },
  {
   "cell_type": "markdown",
   "id": "cf6e0d12",
   "metadata": {},
   "source": [
    "## 1.1. Parameters describing the gas and dust distribution"
   ]
  },
  {
   "cell_type": "markdown",
   "id": "7790bb26",
   "metadata": {},
   "source": [
    "### 1.1.1. Computational domain"
   ]
  },
  {
   "cell_type": "code",
   "execution_count": 3,
   "id": "5717110f",
   "metadata": {},
   "outputs": [],
   "source": [
    "section = 'CreateDomDump'\n",
    "params = {\n",
    "    'DomDumpDir'       : ExperimentDir,\n",
    "    'idealised_models' : 'T',\n",
    "    'comput_dom_type'  : 'sphere',\n",
    "    'comput_dom_pos'   : '0.5,0.5,0.5',\n",
    "    'comput_dom_rsp'   : '0.5'\n",
    "}\n",
    "Parameters.append(wpf.param_section(section,params))"
   ]
  },
  {
   "cell_type": "markdown",
   "id": "674648b5",
   "metadata": {},
   "source": [
    "### 1.1.2.  Mesh properties (refinement and max resolution)"
   ]
  },
  {
   "cell_type": "code",
   "execution_count": 4,
   "id": "10eed2b7",
   "metadata": {},
   "outputs": [],
   "source": [
    "section = 'mesh'\n",
    "params = {\n",
    "    'verbose'       : 'T',\n",
    "    'refine_lmax'   : '1',\n",
    "    'refine_err_grad_d'  : '0.',\n",
    "    'refine_err_grad_v'  : '-1',\n",
    "    'refine_dv_over_vth' : 'F',\n",
    "}\n",
    "Parameters.append(wpf.param_section(section,params))"
   ]
  },
  {
   "cell_type": "markdown",
   "id": "0a8e123c",
   "metadata": {},
   "source": [
    "### 1.1.3. Gas composition "
   ]
  },
  {
   "cell_type": "code",
   "execution_count": 5,
   "id": "6def2fac",
   "metadata": {},
   "outputs": [],
   "source": [
    "section = 'gas_composition'\n",
    "params = {\n",
    "    'nscatterer'       : '2', #'1',\n",
    "    'scatterer_names'  : 'SiII-1190, SiII-1193', #'SiII-1260',\n",
    "    'atomic_data_dir'   : \"%s/ions_parameters/\"%RascasDir,\n",
    "    'ignoreDust': 'T'\n",
    "}\n",
    "Parameters.append(wpf.param_section(section,params))"
   ]
  },
  {
   "cell_type": "markdown",
   "id": "d9308208",
   "metadata": {},
   "source": [
    "### 1.1.4. Properties of dust"
   ]
  },
  {
   "cell_type": "code",
   "execution_count": 6,
   "id": "40124254",
   "metadata": {},
   "outputs": [],
   "source": [
    "section = 'dust'\n",
    "params = {\n",
    "    'albedo':0.32,\n",
    "    'g_dust':0.73,\n",
    "    'dust_model':'SMC'\n",
    "}\n",
    "Parameters.append(wpf.param_section(section,params))"
   ]
  },
  {
   "cell_type": "markdown",
   "id": "a9674373",
   "metadata": {},
   "source": [
    "### 1.1.5. CGM model parameter"
   ]
  },
  {
   "cell_type": "code",
   "execution_count": 7,
   "id": "140de061",
   "metadata": {},
   "outputs": [],
   "source": [
    "section = 'IdealisedModel'\n",
    "params ={\n",
    "    'ColumnDensity_cgs':'1e14',\n",
    "    'Radius_cgs': '1e22',\n",
    "    'Temperature':'1e4',\n",
    "    'TurbulentVelocity_kms':'30'\n",
    "}\n",
    "Parameters.append(wpf.param_section(section,params))"
   ]
  },
  {
   "cell_type": "markdown",
   "id": "8199c6a1",
   "metadata": {},
   "source": [
    "## 1.2. Parameters describing the source"
   ]
  },
  {
   "cell_type": "code",
   "execution_count": 8,
   "id": "10a1e06c",
   "metadata": {},
   "outputs": [],
   "source": [
    "section = 'PhotonsFromSourceModel'\n",
    "params ={\n",
    "    'outputfile' : '%s/ppic.dat'%ExperimentDir,\n",
    "    'source_pos' : '0.5,0.5,0.5',\n",
    "    'source_vel' : '0,0,0',        # cm/s\n",
    "    'source_type': 'pointlike',\n",
    "    'spec_type'  : 'PowLaw',\n",
    "    'spec_powlaw_lmin_Ang' : '1189',#'1259',\n",
    "    'spec_powlaw_lmax_Ang' : '1198', #'1266',\n",
    "    'spec_powlaw_beta'     : '-2.0',\n",
    "    'nPhotonPackets'       : '1000000'\n",
    "}\n",
    "Parameters.append(wpf.param_section(section,params))"
   ]
  },
  {
   "cell_type": "code",
   "execution_count": 9,
   "id": "83e0f419",
   "metadata": {},
   "outputs": [],
   "source": [
    "if False: \n",
    "    section = 'PhotonsFromSourceModel'\n",
    "    params ={\n",
    "        'outputfile' : '%s/ppic.dat'%ExperimentDir,\n",
    "        'source_pos' : '0.5,0.5,0.5',\n",
    "        'source_vel' : '0,0,0',        # cm/s\n",
    "        'source_type': 'pointlike',\n",
    "        'spec_type'  : 'Table',\n",
    "        'spec_table_lmin_Ang'  : '1259',\n",
    "        'spec_table_lmax_Ang'  : '1266',\n",
    "        'spec_table_age'       : '10', # Myr\n",
    "        'spec_table_met'       : '0.01', # Z \n",
    "        'spec_table_mass'      : '1e8', # Msun\n",
    "        'spec_SSPdir'          : '/path/to/SSPs',\n",
    "        'nPhotonPackets'       : '1000000'\n",
    "    }\n",
    "    Parameters.append(wpf.param_section(section,params))"
   ]
  },
  {
   "cell_type": "markdown",
   "id": "37776a75",
   "metadata": {},
   "source": [
    "## 1.3. Parameters the RT computation"
   ]
  },
  {
   "cell_type": "code",
   "execution_count": 10,
   "id": "dd54d3d6",
   "metadata": {},
   "outputs": [],
   "source": [
    "if useMPI:\n",
    "    section = 'rascas' \n",
    "else:\n",
    "    section = 'rascas-serial' \n",
    "\n",
    "params ={\n",
    "    'verbose':'T',\n",
    "    'DomDumpDir':ExperimentDir,\n",
    "    'PhotonICFile':'%s/ppic.dat'%ExperimentDir,\n",
    "    'fileout':'%s/result.dat'%ExperimentDir,\n",
    "    'nbundle':'10000'\n",
    "}\n",
    "Parameters.append(wpf.param_section(section,params))"
   ]
  },
  {
   "cell_type": "code",
   "execution_count": 11,
   "id": "803eea02",
   "metadata": {},
   "outputs": [],
   "source": [
    "section='worker'\n",
    "params={'verbose':'F'}\n",
    "Parameters.append(wpf.param_section(section,params))"
   ]
  },
  {
   "cell_type": "markdown",
   "id": "7389f7f9",
   "metadata": {},
   "source": [
    "# 2.  Write parameter file and run the codes"
   ]
  },
  {
   "cell_type": "code",
   "execution_count": 12,
   "id": "22e50a06",
   "metadata": {
    "scrolled": false
   },
   "outputs": [],
   "source": [
    "# write parameter list to a file \n",
    "wpf.write_parameter_file('params.cfg',Parameters)"
   ]
  },
  {
   "cell_type": "markdown",
   "id": "61e7ba56",
   "metadata": {},
   "source": [
    "## 2.1 create mesh and visualize it"
   ]
  },
  {
   "cell_type": "markdown",
   "id": "ba5dd579",
   "metadata": {},
   "source": [
    "Execute the following cell in order run the executable `CreateDomDumpAMRModel` which generates the adaptive mesh containing the model. This will generate a few files in the `ExperimentDir`, including a log file `CreateDomDumpAMRModel.log`, the `.mesh` file (which has the data) and some `.dom` files which describe different domains. "
   ]
  },
  {
   "cell_type": "code",
   "execution_count": 13,
   "id": "0b4b2cc3",
   "metadata": {},
   "outputs": [],
   "source": [
    "# run CreateDomDumpAMRModel\n",
    "cmd = \"%s/f90/CreateDomDumpAMRModel params.cfg > CreateDomDumpAMRModel.log\"%RascasDir\n",
    "error = os.system(cmd)\n",
    "if error != 0:\n",
    "    print('Something went wrong...')\n",
    "    print('-> check file CreateDomDumpAMRModel.log or message below for more info')"
   ]
  },
  {
   "cell_type": "code",
   "execution_count": 14,
   "id": "2523b8cc",
   "metadata": {},
   "outputs": [],
   "source": [
    "# visualise the mesh \n",
    "\n"
   ]
  },
  {
   "cell_type": "markdown",
   "id": "404c09c5",
   "metadata": {},
   "source": [
    "## 2.2 create the photon packets"
   ]
  },
  {
   "cell_type": "code",
   "execution_count": 15,
   "id": "c0346505",
   "metadata": {},
   "outputs": [],
   "source": [
    "# run PhotonsFromSourceModel\n",
    "cmd = \"%s/f90/PhotonsFromSourceModel params.cfg > PhotonsFromSourceModel.log\"%RascasDir\n",
    "error = os.system(cmd)\n",
    "if error != 0:\n",
    "    print('Something went wrong...')\n",
    "    print('-> check file PhotonsFromSourceModel.log or message below for more info')"
   ]
  },
  {
   "cell_type": "code",
   "execution_count": 16,
   "id": "a9adaada",
   "metadata": {},
   "outputs": [
    {
     "data": {
      "text/plain": [
       "Text(0, 0.5, 'Nb of photon packets per Angstrom')"
      ]
     },
     "execution_count": 16,
     "metadata": {},
     "output_type": "execute_result"
    },
    {
     "data": {
      "image/png": "[encoded data removed]",
      "text/plain": [
       "<Figure size 432x288 with 1 Axes>"
      ]
     },
     "metadata": {
      "needs_background": "light"
     },
     "output_type": "display_data"
    }
   ],
   "source": [
    "# have a look at the photon packets\n",
    "p = jp.photonlist('ppic.dat','result.dat',load=False)\n",
    "p.load_ic()\n",
    "lint,sint = p.spectrum(frame='ic',Flambda=False,nbins=100)\n",
    "plt.plot(lint,sint)\n",
    "plt.xlabel('wavelength (Angstrom)',fontsize=13)\n",
    "plt.ylabel('Nb of photon packets per Angstrom',fontsize=13)"
   ]
  },
  {
   "cell_type": "markdown",
   "id": "2559d924",
   "metadata": {},
   "source": [
    "## 2.3 Run the radiative transfer"
   ]
  },
  {
   "cell_type": "code",
   "execution_count": 17,
   "id": "6aa75bfb",
   "metadata": {},
   "outputs": [
    {
     "name": "stderr",
     "output_type": "stream",
     "text": [
      "\n",
      "real\t0m2.254s\n",
      "user\t0m2.190s\n",
      "sys\t0m0.050s\n"
     ]
    }
   ],
   "source": [
    "# run RASCAS \n",
    "if useMPI:\n",
    "    cmd = \"time mpirun %s/f90/rascas params.cfg > rascas.log\"%RascasDir\n",
    "else:\n",
    "    cmd = \"time %s/f90/rascas-serial params.cfg > rascas.log\"%RascasDir\n",
    "error = os.system(cmd)\n",
    "if error != 0:\n",
    "    print('Something went wrong...')\n",
    "    print('-> check file rascas.log or message below for more info')"
   ]
  },
  {
   "cell_type": "markdown",
   "id": "390f4b8c",
   "metadata": {},
   "source": [
    "# 3. Plot the results "
   ]
  },
  {
   "cell_type": "markdown",
   "id": "d826d5ac",
   "metadata": {},
   "source": [
    "## 3.1. Spectrum (angle-averaged and spatially integrated)"
   ]
  },
  {
   "cell_type": "code",
   "execution_count": 18,
   "id": "38da0c9b",
   "metadata": {},
   "outputs": [],
   "source": [
    "# load the results of the RASCAS experiment\n",
    "p = jp.photonlist('ppic.dat','result.dat')"
   ]
  },
  {
   "cell_type": "code",
   "execution_count": 19,
   "id": "ec00f3ed",
   "metadata": {},
   "outputs": [],
   "source": [
    "# get the observed spectrum\n",
    "lobs,sobs = p.spectrum(frame='obs',nbins=300)\n",
    "\n",
    "# get the intrinsic spectrum\n",
    "lint,sint = p.spectrum(frame='ic',nbins=300)"
   ]
  },
  {
   "cell_type": "code",
   "execution_count": 20,
   "id": "7d39245c",
   "metadata": {},
   "outputs": [],
   "source": [
    "# normalise spectra to the median value of the intrinsic spectrum\n",
    "continuum = np.median(sint)\n",
    "sobs = sobs / continuum\n",
    "sint = sint / continuum"
   ]
  },
  {
   "cell_type": "code",
   "execution_count": 21,
   "id": "e6c45a72",
   "metadata": {},
   "outputs": [
    {
     "data": {
      "image/png": "[encoded data removed]",
      "text/plain": [
       "<Figure size 432x288 with 1 Axes>"
      ]
     },
     "metadata": {
      "needs_background": "light"
     },
     "output_type": "display_data"
    }
   ],
   "source": [
    "# plot spectra \n",
    "plt.plot(lobs,sobs,label='Escaping spectrum',lw=2,ls='-',c='k')\n",
    "plt.plot(lint,sint,alpha=0.6,label='Intrinsic spectrum',lw=2,ls='-',c='firebrick')\n",
    "plt.legend(fontsize=14)\n",
    "plt.xlabel('wavelength (Angstrom)',fontsize=14)\n",
    "plt.ylabel(r'$F_\\lambda\\ /\\ F_{cont}$',fontsize=14)\n",
    "plt.show()"
   ]
  },
  {
   "cell_type": "markdown",
   "id": "ac9c561e",
   "metadata": {},
   "source": [
    "## 3.2. Surface-brightness map and profile (angle-averaged)"
   ]
  },
  {
   "cell_type": "code",
   "execution_count": null,
   "id": "f71148b9",
   "metadata": {},
   "outputs": [],
   "source": []
  },
  {
   "cell_type": "markdown",
   "id": "a7689414",
   "metadata": {},
   "source": [
    "## 3.3. Spatially resolved spectrum (angle-averaged)"
   ]
  },
  {
   "cell_type": "code",
   "execution_count": null,
   "id": "f564b0f5",
   "metadata": {},
   "outputs": [],
   "source": []
  },
  {
   "cell_type": "code",
   "execution_count": null,
   "id": "053a7d87",
   "metadata": {},
   "outputs": [],
   "source": []
  },
  {
   "cell_type": "code",
   "execution_count": null,
   "id": "aae5e690",
   "metadata": {},
   "outputs": [],
   "source": []
  }
 ],
 "metadata": {
  "kernelspec": {
   "display_name": "Python 3 (ipykernel)",
   "language": "python",
   "name": "python3"
  },
  "language_info": {
   "codemirror_mode": {
    "name": "ipython",
    "version": 3
   },
   "file_extension": ".py",
   "mimetype": "text/x-python",
   "name": "python",
   "nbconvert_exporter": "python",
   "pygments_lexer": "ipython3",
   "version": "3.10.8"
  }
 },
 "nbformat": 4,
 "nbformat_minor": 5
}
