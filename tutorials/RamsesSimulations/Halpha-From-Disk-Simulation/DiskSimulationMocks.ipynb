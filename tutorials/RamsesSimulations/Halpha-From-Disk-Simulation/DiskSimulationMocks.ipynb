{
 "cells": [
  {
   "cell_type": "markdown",
   "id": "8d6f289c",
   "metadata": {},
   "source": [
    "# Tutorial to generate Ha cubes from a simulated disk galaxy\n",
    "\n",
    "This tutorial processes the outputs of a RHD simulation of an idealised disk galaxy in order to generate a few spectra, images, and data-cubes around the H-alpha line. It models both the line emission and the stellar continuum, and accounts for light propagation through the dusty ISM. \n"
   ]
  },
  {
   "cell_type": "markdown",
   "id": "9d23dff0",
   "metadata": {},
   "source": [
    "### Warning\n",
    "\n",
    "For disk galaxy simulation, there are stars in the initial conditions, let say **old stars**. Make sure to read them correctly as stars and not dark matter and to set their ages and metallicity, since they do contribute to the stellar continuum.\n"
   ]
  },
  {
   "cell_type": "markdown",
   "id": "4baa4411",
   "metadata": {},
   "source": [
    "## 1. Some imports and useful functions"
   ]
  },
  {
   "cell_type": "code",
   "execution_count": null,
   "id": "c79b258e",
   "metadata": {},
   "outputs": [],
   "source": [
    "RascasDir       = '../../../'  # path to the rascas directory (could be an absolute path).\n",
    "import sys\n",
    "sys.path.append(\"%s/py/\"%(RascasDir))\n",
    "# imports from the RASCAS library\n",
    "import write_param_files as wpf\n",
    "import jphot as jp\n",
    "import lya_utils as lya\n",
    "from mocks import mockobs"
   ]
  },
  {
   "cell_type": "code",
   "execution_count": null,
   "id": "93949a01",
   "metadata": {},
   "outputs": [],
   "source": [
    "# standard imports\n",
    "import os\n",
    "import numpy as np\n",
    "import matplotlib.pyplot as plt\n",
    "from matplotlib.colors import LogNorm\n",
    "from astropy.io import fits\n",
    "from astropy import units as u"
   ]
  },
  {
   "cell_type": "code",
   "execution_count": null,
   "id": "8fcfbcac",
   "metadata": {},
   "outputs": [],
   "source": [
    "def v_from_lambda(lbda_Angstrom):\n",
    "    Halpha_lambda0 = 6562.8e-8 # [cm]\n",
    "    Halpha_nu0     = lya.clight / Halpha_lambda0  # [Hz]\n",
    "    nu = lya.clight / (lbda_Angstrom * 1e-8) # [Hz]\n",
    "    v = Halpha_lambda0 * (Halpha_nu0 - nu) # [cm/s]\n",
    "    return v*1e-5 # [km/s]\n",
    "\n",
    "def lambda_from_v(v_kms):\n",
    "    Halpha_lambda0 = 6562.8e-8 # [cm]\n",
    "    lbda = Halpha_lambda0 / ( 1 - v_kms*1e5/lya.clight) # [cm]\n",
    "    return lbda*1e8  # [A]\n",
    "\n",
    "print(lambda_from_v(-400),lambda_from_v(400))"
   ]
  },
  {
   "cell_type": "code",
   "execution_count": null,
   "id": "094463a6",
   "metadata": {},
   "outputs": [],
   "source": [
    "# a useful function to get units from ramses outputs\n",
    "def get_info_param_real(RamsesDir,timestep,pname):\n",
    "    \"\"\" reads the value of a parameter from a ramses info file. \n",
    "    inputs: \n",
    "    - RamsesDir : where the directories output_xxxxx are found.\n",
    "    - timestep : the snapshot number\n",
    "    - pname : the name of the parameter to search for in the info file. \n",
    "    \"\"\"\n",
    "    file = RamsesDir+'/output_%5.5i'%timestep+'/info_%5.5i.txt'%timestep\n",
    "    f = open(file,'r')\n",
    "    lines = f.readlines()\n",
    "    f.close()\n",
    "    for l in lines:\n",
    "        if pname in l:\n",
    "            p = np.float64(l.split(sep='=')[1])\n",
    "            return p\n"
   ]
  },
  {
   "cell_type": "markdown",
   "id": "eb706dee",
   "metadata": {},
   "source": [
    "## 2. General setup\n",
    "(Here we set up paths to ramses data and define a few general things)"
   ]
  },
  {
   "cell_type": "code",
   "execution_count": null,
   "id": "4c7ee981",
   "metadata": {},
   "outputs": [],
   "source": [
    "ExperimentDir   = './'  # where the RASCAS run will happen (and where param file will be written). \n",
    "repository = '/scratch/Cral/rosdahl/23_crmom/01_galdisks/02_G9/12_flike_nocr/'\n",
    "snapnum    = 18\n",
    "# properties of the region to compute RT in :\n",
    "targetshape = 'sphere'\n",
    "targetpos  = '0.5, 0.5, 0.5' \n",
    "targetrad  = 0.1"
   ]
  },
  {
   "cell_type": "markdown",
   "id": "036b3524",
   "metadata": {},
   "source": [
    "RASCAS computes the emission from star particles and gas cells within the target volume, and propagate Monte Carlo photon packets until the escape that volume. Different volumes are possible in principle (cube, slab, sphere, shell, ...) but for constructing mocks as we do here, the sphere is the most convenient. \n",
    "\n",
    "We thus assume the region to be a sphere (`targetshape`) and we define its radius via the variable `targetrad` (in **box units**). One may want to express the target radius in kpc... We do this below as an example."
   ]
  },
  {
   "cell_type": "code",
   "execution_count": null,
   "id": "42b2a804",
   "metadata": {},
   "outputs": [],
   "source": [
    "unit_l = get_info_param_real(repository,snapnum,'unit_l') # read unit_l from info file to convert box units to cm\n",
    "boxlen = get_info_param_real(repository,snapnum,'boxlen')\n",
    "targetrad_units = targetrad * unit_l * boxlen * u.cm\n",
    "print(targetrad_units.to('kpc'))"
   ]
  },
  {
   "cell_type": "markdown",
   "id": "97828cf2",
   "metadata": {},
   "source": [
    "## 3. Define mock observations\n",
    "In the bloc below, we define the parameters for mock observations. These parameters include pointings (i.e. target position and directions of observations), and instrumental specifications (spectroscopy, imaging, cube properties). The resulting parameters are written to a user-unfriendly file `mock_param_file.txt` in the `ExperimentDir` directory. This file is later used by `rascas`.\n",
    "\n",
    "The way things are written below are so that the cube has the same properties as the image and spectrum. This needs not be the case: all mocks in a given pointing are independent. "
   ]
  },
  {
   "cell_type": "code",
   "execution_count": null,
   "id": "a3fffe9a",
   "metadata": {},
   "outputs": [],
   "source": [
    "target_position = np.array([0.5,0.5,0.5])  # aim for the center of the box (all in box units here... )\n",
    "\n",
    "# draw a few directions from edge-on to face-on\n",
    "nmocks   = 5  # how many pointings\n",
    "theta = np.linspace(0,np.pi/2.,nmocks)\n",
    "kobs = []\n",
    "for t in theta:\n",
    "    kobs.append(np.array([0,np.cos(t),np.sin(t)]))  # observe along the y direction (make sure k is normalised)\n",
    "    \n",
    "# spectroscopic observation\n",
    "spec_npix       = 50 # the nb of wavelength bins\n",
    "aperture   = 0.03 # the radius of the circular aperture within which photon packets are collected (in box-size units)\n",
    "lambda_min = 6554  # min wavelength (Angstrom)\n",
    "lambda_max = 6571.6  # max wavelength (Angstrom)\n",
    "spec       = wpf.specParams(spec_npix,aperture,lambda_min,lambda_max)\n",
    "\n",
    "# image \n",
    "im_npix = 100 # nb of pixels on a side\n",
    "size = 0.05   # size of the image (side)\n",
    "image = wpf.imageParams(im_npix,size)\n",
    "\n",
    "# cube \n",
    "cube_lbda_npix = spec_npix\n",
    "cube_image_npix = im_npix\n",
    "cube_lmin = lambda_min        # Angstrom\n",
    "cube_lmax = lambda_max        # Angstrom\n",
    "cube_side = size              # box units [0,1] (pixel_size = size/im_npix)\n",
    "cube = wpf.cubeParams(cube_lbda_npix,cube_image_npix,cube_lmin,cube_lmax,cube_side)\n",
    "\n",
    "# define the object containing all the above information for each direction\n",
    "# and write it into some file \n",
    "mock_params_file = '%s/mock_param_file.txt'%ExperimentDir\n",
    "f = open(mock_params_file,'w')\n",
    "for k in kobs:\n",
    "    p = wpf.pointing(k,target_position,spec=spec,image=image,cube=cube)\n",
    "    # p = wpf.pointing(k,target_position,cube=cube)\n",
    "    p.write(f)\n",
    "f.close()\n"
   ]
  },
  {
   "cell_type": "markdown",
   "id": "2c997f31",
   "metadata": {},
   "source": [
    "## 4. Run RASCAS suite of codes "
   ]
  },
  {
   "cell_type": "markdown",
   "id": "dfa17802",
   "metadata": {},
   "source": [
    "### 4.1 Generate photon packet initial conditions\n",
    "Here we write parameter files and execute the codes `PhotonsFromStars` and `HaPhotonsFromGas`. These are serial codes which read the ramses outputs, compute the luminosities of star particles and gas cells and generate a samplic of these in the form of photon packets."
   ]
  },
  {
   "cell_type": "code",
   "execution_count": null,
   "id": "4e3f9362",
   "metadata": {},
   "outputs": [],
   "source": [
    "Parameters = []  # initialise a list of parameter sections\n",
    "\n",
    "\n",
    "# Stellar continuum \n",
    "section = 'PhotonsFromStars'\n",
    "params = {\n",
    "    'repository'          : repository,\n",
    "    'snapnum'             : '%i'%snapnum ,\n",
    "    'outputfile'          : '%s/Cont.IC'%ExperimentDir,\n",
    "    'star_dom_type'       : targetshape ,\n",
    "    'star_dom_pos'        : targetpos,\n",
    "    'star_dom_rsp'        : '%.8e'%targetrad ,\n",
    "    'spec_SSPdir'         : '/Xnfs/cosmos/lmdansac/benchmark_PSMN/SED/bpass_v221/bpass_v221_chab100/',\n",
    "    'spec_type'           : 'Table' ,\n",
    "    'spec_table_lmin_Ang' : '%f'%lambda_min,\n",
    "    'spec_table_lmax_Ang' : '%f'%lambda_max,\n",
    "    'nPhotonPackets'      : '500000'\n",
    "}\n",
    "Parameters.append(wpf.param_section(section,params))\n",
    "\n",
    "# H-alpha emission (collisions and recombinations)\n",
    "section = 'HaPhotonsFromGas'\n",
    "params = {\n",
    "    'outputfileRec'     : '%s/RecHa.IC'%ExperimentDir,\n",
    "    'outputfileCol'     : '%s/ColHa.IC'%ExperimentDir,\n",
    "    'repository'        : repository,\n",
    "    'snapnum'           : '%i'%snapnum,\n",
    "    'emission_dom_type' : targetshape,\n",
    "    'emission_dom_pos'  : targetpos,\n",
    "    'emission_dom_rsp'  : '%.8e'%targetrad,\n",
    "    'nPhotonPackets'    : '100000 ',\n",
    "    'ranseed'           : '-111',\n",
    "    'verbose'           : 'T ',\n",
    "    'doRecombs'         : 'T ',\n",
    "    'doColls'           : 'T',\n",
    "    'tcool_resolution'  :'0'\n",
    "}\n",
    "Parameters.append(wpf.param_section(section,params))\n",
    "\n",
    "# RAMSES details -> WARNING: check that the indices of variables match the simulation you process\n",
    "# (find the information in output_xxxxx/hydro_file_descriptor.txt)\n",
    "section_ramses = 'ramses'\n",
    "params_ramses = {\n",
    "    'self_shielding'    : 'T ',\n",
    "    'ramses_rt'         : 'T ',\n",
    "    'read_rt_variables' : 'T ',\n",
    "    'verbose'           : 'T',\n",
    "    'cosmo'             : 'F',\n",
    "    'use_proper_time'   : 'T',\n",
    "    'particle_families' : 'T',\n",
    "    'itemp'             : '11',\n",
    "    'imetal'            : '12',\n",
    "    'ihii'              : '13',\n",
    "    'iheii'             : '14',\n",
    "    'iheiii'            : '15',\n",
    "    'deut2H_nb_ratio'   : '3.0e-05',\n",
    "    'recompute_particle_initial_mass' : 'F'\n",
    "}\n",
    "Parameters.append(wpf.param_section(section_ramses,params_ramses))\n",
    "\n",
    "#### write parameter list to a file \n",
    "wpf.write_parameter_file('%s/PPIC.cfg'%(ExperimentDir),Parameters)"
   ]
  },
  {
   "cell_type": "code",
   "execution_count": null,
   "id": "40e281c2",
   "metadata": {},
   "outputs": [],
   "source": [
    "cmd = \"%s/f90/PhotonsFromStars %s/PPIC.cfg > %s/PhotonsFromStars.log\"%(RascasDir,ExperimentDir,ExperimentDir)\n",
    "error = os.system(cmd)\n",
    "if error != 0:\n",
    "    print('Something went wrong...')\n",
    "    print('-> check file PhotonsFromStars.log or message below for more info')\n",
    "\n",
    "cmd = \"%s/f90/HaPhotonsFromGas %s/PPIC.cfg > %s/HaPhotonsFromGas.log\"%(RascasDir,ExperimentDir,ExperimentDir)\n",
    "error = os.system(cmd)\n",
    "if error != 0:\n",
    "    print('Something went wrong...')\n",
    "    print('-> check file HaPhotonsFromGas.log or message below for more info')\n",
    "    "
   ]
  },
  {
   "cell_type": "markdown",
   "id": "6b62684d",
   "metadata": {},
   "source": [
    "### 4.2 Generate mesh for RT\n",
    "Here we write the parameter file and run the code `CreateDomDump` which reads ramses outputs and extracts the mesh in the region of interest, with the quantities of interest. \n",
    "\n",
    "In RASCAS the dust model follows the formulation of Laursen et al (2009):\n",
    "$$ n_{dust} = (n_{HI} + f_{ion}\\ n_{HII}) \\frac{Z}{Z_0} $$\n",
    "\n",
    "with $f_{ion} ∼ 0.01$ a free parameter describing how much dust is present in ionised gas,\n",
    "and $Z_0 ∼ 0.005 (0.01)$ the mean metallicity of the Small and Large Magellanic Cloud (SMC and LMC, respectively)."
   ]
  },
  {
   "cell_type": "code",
   "execution_count": null,
   "id": "952297d9",
   "metadata": {},
   "outputs": [],
   "source": [
    "Parameters = []  # initialise a list of parameter sections\n",
    "\n",
    "# Gas and dust\n",
    "section = 'CreateDomDump'\n",
    "params = {\n",
    "    'repository'       : repository,\n",
    "    'snapnum'          : '%i'%snapnum ,\n",
    "    'DomDumpDir'       : './',\n",
    "    'idealised_models' : 'F',\n",
    "    'comput_dom_type'  : targetshape,\n",
    "    'comput_dom_pos'   : targetpos,\n",
    "    'comput_dom_rsp'   : '%.8e'%targetrad\n",
    "}\n",
    "Parameters.append(wpf.param_section(section,params))\n",
    "\n",
    "# H-alpha does not scatter ... use only dust. \n",
    "section = 'gas_composition'\n",
    "params = {\n",
    "    'nscatterer' : '0',\n",
    "    'f_ion'      : '1.000E-02',\n",
    "    'Zref'       : '5.000E-03',\n",
    "    'ignoreDust' : 'F'\n",
    "}\n",
    "Parameters.append(wpf.param_section(section,params))\n",
    "\n",
    "# RAMSES details\n",
    "# same as above\n",
    "Parameters.append(wpf.param_section(section_ramses,params_ramses))\n",
    "\n",
    "#### write parameter list to a file \n",
    "wpf.write_parameter_file('%s/CDD.cfg'%(ExperimentDir),Parameters)"
   ]
  },
  {
   "cell_type": "code",
   "execution_count": null,
   "id": "0c76033d",
   "metadata": {},
   "outputs": [],
   "source": [
    "cmd = \"%s/f90/CreateDomDump %s/CDD.cfg > %s/CreateDomDump.log\"%(RascasDir,ExperimentDir,ExperimentDir)\n",
    "error = os.system(cmd)\n",
    "if error != 0:\n",
    "    print('Something went wrong...')\n",
    "    print('-> check file CreateDomDump.log or message below for more info')\n"
   ]
  },
  {
   "cell_type": "markdown",
   "id": "c448d243",
   "metadata": {},
   "source": [
    "Quick visualization of the mesh "
   ]
  },
  {
   "cell_type": "code",
   "execution_count": null,
   "id": "4e60c9a7",
   "metadata": {},
   "outputs": [],
   "source": [
    "# visualise the mesh\n",
    "\n",
    "# Short note:\n",
    "# AMR mesh means that cells have different sizes. Here, we want to visualise the size of the cells. \n",
    "# We will make a map of the maximum level of refinement of the cells along the line-of-sight. \n",
    "# (Higher refinement level means more resolved, so smallest cells.)\n",
    "# To better see how resolution changes with radius in the case of the sphere, \n",
    "# we will make a map by selecting only cells in a thin slice along the line-of-sight.\n",
    "\n",
    "import maps as ma\n",
    "import mesh as me\n",
    "\n",
    "# read the mesh file\n",
    "mdom = me.mesh(filename=\"domain_1.mesh\",gasmix=\"dust\")\n",
    "\n",
    "lmax = np.amax(mdom.gas.leaflevel)\n",
    "levels = np.array(mdom.gas.leaflevel[:])\n",
    "positions = mdom.gas.xleaf\n",
    "\n",
    "# make a map of the maximum level of refinement of the mesh\n",
    "map, _ = ma.lmax_map(lmax,positions,levels,0.,1.,0.499,0.501,0.,1.,'y')\n",
    "\n",
    "im = plt.imshow(map.T,interpolation='nearest',origin='lower',\n",
    "                    extent=(0.,1.,0.,1.),\n",
    "                    cmap='jet')\n",
    "cbar = plt.colorbar(im)\n",
    "cbar.set_label(r'level')\n",
    "plt.show()"
   ]
  },
  {
   "cell_type": "code",
   "execution_count": null,
   "id": "7234aa75",
   "metadata": {},
   "outputs": [],
   "source": [
    "def crop_map(map_in, factor=1):\n",
    "    npix = map_in.shape[0]\n",
    "    map_out = map_in[int(npix/2 - npix/factor):int(npix/2 + npix/factor), int(npix/2 - npix/factor):int(npix/2 + npix/factor)]\n",
    "    return map_out\n",
    "\n",
    "\n",
    "# make a dust density map\n",
    "positions = mdom.gas.xleaf\n",
    "density   = np.array(mdom.gas.ndust)\n",
    "\n",
    "# select only cells with non-zero density\n",
    "ii = density > 1.e-15\n",
    "pos = np.array((positions[0,:][ii],positions[1,:][ii],positions[2,:][ii]))\n",
    "lev = levels[ii]\n",
    "dens = density[ii]\n",
    "\n",
    "map, _ = ma.make_map(lmax,pos,lev,dens,0.,1,0.,1,0.,1,'z')\n",
    "deno = np.ones(dens.shape)\n",
    "weight, _ = ma.make_map(lmax,pos,lev,deno,0.,1,0.,1,0.,1.,'z')\n",
    "\n",
    "print(weight.shape[0])\n",
    "weighted_map = map/weight\n",
    "toto = crop_map(weighted_map, factor=10)\n",
    "print(toto.shape)\n",
    "\n",
    "from matplotlib.colors import LogNorm\n",
    "\n",
    "im = plt.imshow(toto.T,interpolation='nearest',origin='lower', \n",
    "                norm=LogNorm(),\n",
    "                extent=(0.4,0.6,0.4,0.6),\n",
    "                cmap='gist_earth')\n",
    "\n",
    "cbar = plt.colorbar(im)\n",
    "cbar.set_label(r'density')\n",
    "plt.show()"
   ]
  },
  {
   "cell_type": "markdown",
   "id": "d220cede",
   "metadata": {},
   "source": [
    "### 4.3 Run RASCAS \n",
    "This is now the RT computation itself. Here, `rascas` (or `rascas-serial`) needs to be run 3 times: once for stellar continuum, once for recombination emission, and once for collisional emission. This may take a bit of time, depending on the number of photon packets each run has to deal with. "
   ]
  },
  {
   "cell_type": "markdown",
   "id": "815183a4",
   "metadata": {},
   "source": [
    "For the dust section, we have to provide the value of the albedo and g at the wavelength of the photons. We can use Table 6 of [Li & Draine (2001)](https://ui.adsabs.harvard.edu/abs/2001ApJ...554..778L/abstract). "
   ]
  },
  {
   "cell_type": "code",
   "execution_count": null,
   "id": "1409d968",
   "metadata": {},
   "outputs": [],
   "source": [
    "rootParameters = []  # initialise a list of parameter sections\n",
    "\n",
    "# H-alpha does not scatter ... use only dust. \n",
    "section = 'gas_composition'\n",
    "params = {\n",
    "    'nscatterer' : '0',\n",
    "    'f_ion'      : '1.000E-02',\n",
    "    'Zref'       : '5.000E-03',\n",
    "    'ignoreDust' : 'F'\n",
    "}\n",
    "rootParameters.append(wpf.param_section(section,params))\n",
    "\n",
    "\n",
    "section = 'dust'\n",
    "params = {\n",
    "    'albedo' : '0.65',\n",
    "    'g_dust' : '0.5',\n",
    "    'dust_model' : 'SMC'\n",
    "}\n",
    "rootParameters.append(wpf.param_section(section,params))\n",
    "\n",
    "# RAMSES details\n",
    "# same as above\n",
    "rootParameters.append(wpf.param_section(section_ramses,params_ramses))\n",
    "\n"
   ]
  },
  {
   "cell_type": "code",
   "execution_count": null,
   "id": "24cd9768",
   "metadata": {},
   "outputs": [],
   "source": [
    "# RT for continuum \n",
    "Parameters = rootParameters.copy()\n",
    "\n",
    "section = 'mock'\n",
    "params = {\n",
    "'nDirections' : '%i'%nmocks,\n",
    "'mock_parameter_file' : mock_params_file,\n",
    "'mock_outputfilename' : 'Cont'\n",
    "}\n",
    "Parameters.append(wpf.param_section(section,params))\n",
    "\n",
    "section = 'rascas'\n",
    "params = {\n",
    "    'verbose' : 'T',\n",
    "    'DomDumpDir' : './',\n",
    "    'PhotonICFile' : '%s/Cont.IC'%ExperimentDir,\n",
    "    'fileout' : '%s/Cont.res'%ExperimentDir,\n",
    "    'nbundle' : '100'\n",
    "}\n",
    "Parameters.append(wpf.param_section(section,params))\n",
    "\n",
    "#### write parameter list to a file \n",
    "wpf.write_parameter_file('%s/Cont.cfg'%(ExperimentDir),Parameters)\n",
    "\n",
    "cmd = \"mpirun -n 4 %s/f90/rascas %s/Cont.cfg > %s/rascas_Cont.log\"%(RascasDir,ExperimentDir,ExperimentDir)\n",
    "error = os.system(cmd)\n",
    "if error != 0:\n",
    "    print('Something went wrong...')\n",
    "    print('-> check file rascas_Cont.log or message below for more info')\n",
    "\n"
   ]
  },
  {
   "cell_type": "code",
   "execution_count": null,
   "id": "25ba7623",
   "metadata": {},
   "outputs": [],
   "source": [
    "# RT for Collisional emission \n",
    "Parameters = rootParameters.copy()\n",
    "\n",
    "section = 'mock'\n",
    "params = {\n",
    "'nDirections' : '%i'%nmocks,\n",
    "'mock_parameter_file' : mock_params_file,\n",
    "'mock_outputfilename' : 'ColHa'\n",
    "}\n",
    "Parameters.append(wpf.param_section(section,params))\n",
    "\n",
    "section = 'rascas'\n",
    "params = {\n",
    "    'verbose' : 'T',\n",
    "    'DomDumpDir' : './',\n",
    "    'PhotonICFile' : '%s/ColHa.IC'%ExperimentDir,\n",
    "    'fileout' : '%s/ColHa.res'%ExperimentDir,\n",
    "    'nbundle' : '100'\n",
    "}\n",
    "Parameters.append(wpf.param_section(section,params))\n",
    "\n",
    "#### write parameter list to a file \n",
    "wpf.write_parameter_file('%s/ColHa.cfg'%(ExperimentDir),Parameters)\n",
    "\n",
    "cmd = \"mpirun -n 4 %s/f90/rascas %s/ColHa.cfg > %s/rascas_ColHa.log\"%(RascasDir,ExperimentDir,ExperimentDir)\n",
    "error = os.system(cmd)\n",
    "if error != 0:\n",
    "    print('Something went wrong...')\n",
    "    print('-> check file rascas_ColHa.log or message below for more info')\n",
    "\n",
    "\n"
   ]
  },
  {
   "cell_type": "code",
   "execution_count": null,
   "id": "2a03707a",
   "metadata": {},
   "outputs": [],
   "source": [
    "# RT for Recombination emission \n",
    "Parameters = rootParameters.copy()\n",
    "\n",
    "section = 'mock'\n",
    "params = {\n",
    "'nDirections' : '%i'%nmocks,\n",
    "'mock_parameter_file' : mock_params_file,\n",
    "'mock_outputfilename' : 'RecHa'\n",
    "}\n",
    "Parameters.append(wpf.param_section(section,params))\n",
    "\n",
    "section = 'rascas'\n",
    "params = {\n",
    "    'verbose' : 'T',\n",
    "    'DomDumpDir' : './',\n",
    "    'PhotonICFile' : '%s/RecHa.IC'%ExperimentDir,\n",
    "    'fileout' : '%s/RecHa.res'%ExperimentDir,\n",
    "    'nbundle' : '100'\n",
    "}\n",
    "Parameters.append(wpf.param_section(section,params))\n",
    "\n",
    "#### write parameter list to a file \n",
    "wpf.write_parameter_file('%s/RecHa.cfg'%(ExperimentDir),Parameters)\n",
    "cmd = \"mpirun -n 4 %s/f90/rascas %s/RecHa.cfg > %s/rascas_RecHa.log\"%(RascasDir,ExperimentDir,ExperimentDir)\n",
    "error = os.system(cmd)\n",
    "if error != 0:\n",
    "    print('Something went wrong...')\n",
    "    print('-> check file rascas_RecHa.log or message below for more info')\n",
    "\n"
   ]
  },
  {
   "cell_type": "markdown",
   "id": "01d24d6c",
   "metadata": {},
   "source": [
    "## 5. Quick look at the outputs (mocks)"
   ]
  },
  {
   "cell_type": "markdown",
   "id": "cb4305d2",
   "metadata": {},
   "source": [
    "### 5.1 load and show spectra and images in a selected direction "
   ]
  },
  {
   "cell_type": "code",
   "execution_count": null,
   "id": "02acf994",
   "metadata": {
    "scrolled": false
   },
   "outputs": [],
   "source": [
    "idir = np.random.randint(1,nmocks+1) # chose a random mock with idir between 1 and nmocks\n",
    "\n",
    "# read the three components \n",
    "contmock = mockobs(ExperimentDir,'%s/Cont'%ExperimentDir,'%s/Cont.IC'%ExperimentDir,load_spectrum=True,load_image=True,idirection=idir)\n",
    "recmock  = mockobs(ExperimentDir,'%s/RecHa'%ExperimentDir,'%s/RecHa.IC'%ExperimentDir,load_spectrum=True,load_image=True,idirection=idir)\n",
    "colmock  = mockobs(ExperimentDir,'%s/ColHa'%ExperimentDir,'%s/ColHa.IC'%ExperimentDir,load_spectrum=True,load_image=True,idirection=idir)\n",
    "\n",
    "# compute total image and total spectrum \n",
    "image = contmock.imtot.copy() + recmock.imtot + colmock.imtot\n",
    "spec  = contmock.spec.copy() + recmock.spec + colmock.spec\n",
    "\n",
    "# define x-axis as velocity or wavelength for spectra\n",
    "x_is_vel = True\n",
    "if x_is_vel:\n",
    "    x = v_from_lambda(contmock.spec_lbda_Angstrom)\n",
    "else: \n",
    "    x = contmock.spec_lbda_Angstrom\n",
    "    \n",
    "# make the plot : image (left) and spectrum (right)\n",
    "plt.figure(figsize=(12,5))\n",
    "plt.subplot(121)\n",
    "plt.imshow(image.T,norm=LogNorm(vmin=1e36,vmax=1e40))\n",
    "plt.xticks([]); plt.yticks([])\n",
    "plt.subplot(122)\n",
    "plt.plot(x,spec,lw=2,c='k')\n",
    "plt.xlim(-400,400)\n",
    "if x_is_vel:\n",
    "    plt.xlabel('velocity [km/s]',fontsize=13)\n",
    "else:\n",
    "    plt.xlabel('wavelength [A]',fontsize=13)\n",
    "plt.ylabel(r'$F_\\lambda\\ [erg/s/A]$',fontsize=13)\n",
    "plt.show()"
   ]
  },
  {
   "cell_type": "markdown",
   "id": "c024502b",
   "metadata": {},
   "source": [
    "### 5.2 Write fits files with the data cubes, one per pointing. "
   ]
  },
  {
   "cell_type": "code",
   "execution_count": null,
   "id": "70ff3cd3",
   "metadata": {},
   "outputs": [],
   "source": [
    "for idir in range(nmocks):\n",
    "\n",
    "    contmock = mockobs(ExperimentDir,'%s/Cont'%ExperimentDir,'%s/Cont.IC'%ExperimentDir,load_cube=True,idirection=idir+1)\n",
    "    recmock  = mockobs(ExperimentDir,'%s/RecHa'%ExperimentDir,'%s/RecHa.IC'%ExperimentDir,load_cube=True,idirection=idir+1)\n",
    "    colmock  = mockobs(ExperimentDir,'%s/ColHa'%ExperimentDir,'%s/ColHa.IC'%ExperimentDir,load_cube=True,idirection=idir+1)\n",
    "\n",
    "    cube = contmock.cube + recmock.cube + colmock.cube \n",
    "    fits.PrimaryHDU(cube.T).writeto('cube_%i.fits'%(idir),overwrite=True)\n"
   ]
  }
 ],
 "metadata": {
  "kernelspec": {
   "display_name": "Python 3 (ipykernel)",
   "language": "python",
   "name": "python3"
  },
  "language_info": {
   "codemirror_mode": {
    "name": "ipython",
    "version": 3
   },
   "file_extension": ".py",
   "mimetype": "text/x-python",
   "name": "python",
   "nbconvert_exporter": "python",
   "pygments_lexer": "ipython3",
   "version": "3.11.7"
  }
 },
 "nbformat": 4,
 "nbformat_minor": 5
}
